{
 "cells": [
  {
   "cell_type": "markdown",
   "metadata": {},
   "source": [
    "# U.S. Medical Insurance Costs"
   ]
  },
  {
   "cell_type": "markdown",
   "metadata": {},
   "source": [
    "In this project, the file **insurance.csv** is investigated to provide insights about the medical insurance records. There are *1338 records* listed in the file and there are *7 types of information* in each record, which are: **Age, Sex, BMI, Number of children, Smoker condition, Region, and Insurance charge**. Analyses and evaluations to be conducted are:\n",
    "\n",
    "- Find average age of the patients\n",
    "- Calculate number of males vs. number of females\n",
    "- Find lowest, highest and average BMI of all patients, of males and of females\n",
    "- List kinds of region\n",
    "- Find average insurance charge for each sex type\n",
    "- Find average insurance charge for each number of children the patient has\n",
    "- Find average insurance charge for smoker and non-smoker\n",
    "- Find average insurance charge for each region\n",
    "- Find average insurance charge, compare to above types of average insurance charge\n",
    "- Draw a plot to represent correlation between age and insurance charge\n",
    "- Draw a plot to represent correlation between BMI and insurance charge\n",
    "- Make predictions about what features are the most influential for an individual’s medical insurance charges."
   ]
  },
  {
   "cell_type": "markdown",
   "metadata": {},
   "source": [
    "### To conduct the analyses and evaluations, first thing is to make lists of different types of information in the records from the csv file. "
   ]
  },
  {
   "cell_type": "markdown",
   "metadata": {},
   "source": [
    "Initialize empty lists to store each type of information"
   ]
  },
  {
   "cell_type": "code",
   "execution_count": 5,
   "metadata": {},
   "outputs": [],
   "source": [
    "ages = []\n",
    "sexes = []\n",
    "bmis = []\n",
    "nums_children = []\n",
    "smokings = []\n",
    "regions = []\n",
    "charges = []"
   ]
  },
  {
   "cell_type": "markdown",
   "metadata": {},
   "source": [
    "Open the file insurance.csv and readout the data to lists. Because the data is really clean (no missing data, no need to strip) so the split() method is used."
   ]
  },
  {
   "cell_type": "code",
   "execution_count": 7,
   "metadata": {},
   "outputs": [],
   "source": [
    "row = []\n",
    "with open('insurance.csv') as f:\n",
    "    next(f)\n",
    "    for line in f:\n",
    "        row.append(line.split(','))\n",
    "\n",
    "for item in row:\n",
    "    ages.append(float(item[0]))\n",
    "    sexes.append(item[1])\n",
    "    bmis.append(float(item[2]))\n",
    "    nums_children.append(int(item[3]))\n",
    "    smokings.append(item[4])\n",
    "    regions.append(item[5])\n",
    "    charges.append(float(item[6]))"
   ]
  },
  {
   "cell_type": "markdown",
   "metadata": {},
   "source": [
    "### After having lists of different types of record information, next step is building functions to perform each of the tasks listed at the beginning of this project."
   ]
  },
  {
   "cell_type": "markdown",
   "metadata": {},
   "source": [
    "#### 1, Find average age of the patients"
   ]
  },
  {
   "cell_type": "markdown",
   "metadata": {},
   "source": [
    "An average function is defined for further using."
   ]
  },
  {
   "cell_type": "code",
   "execution_count": 11,
   "metadata": {},
   "outputs": [],
   "source": [
    "def average(list):\n",
    "    avg = sum(list)/len(list)\n",
    "    return round(avg,2)"
   ]
  },
  {
   "cell_type": "code",
   "execution_count": 12,
   "metadata": {},
   "outputs": [
    {
     "name": "stdout",
     "output_type": "stream",
     "text": [
      "Average age of the patients is: 39.21\n"
     ]
    }
   ],
   "source": [
    "print(\"Average age of the patients is:\",average(ages))"
   ]
  },
  {
   "cell_type": "markdown",
   "metadata": {},
   "source": [
    "#### 2, Calculate number of males vs. number of females"
   ]
  },
  {
   "cell_type": "code",
   "execution_count": 14,
   "metadata": {},
   "outputs": [
    {
     "name": "stdout",
     "output_type": "stream",
     "text": [
      "Number of males is: 676\n",
      "Number of females is: 662\n"
     ]
    }
   ],
   "source": [
    "print(\"Number of males is:\", sexes.count('male'))\n",
    "print(\"Number of females is:\", sexes.count('female'))"
   ]
  },
  {
   "cell_type": "markdown",
   "metadata": {},
   "source": [
    "#### 3, Find lowest, highest and average BMI of all patients, of males and of females"
   ]
  },
  {
   "cell_type": "markdown",
   "metadata": {},
   "source": [
    "Firstly, find the lowest, highest and average BMI of all patients."
   ]
  },
  {
   "cell_type": "code",
   "execution_count": 17,
   "metadata": {},
   "outputs": [
    {
     "name": "stdout",
     "output_type": "stream",
     "text": [
      "Lowest BMI recorded: 15.96\n",
      "Highest BMI recorded: 53.13\n",
      "Average BMI: 30.66\n"
     ]
    }
   ],
   "source": [
    "print(\"Lowest BMI recorded:\", min(bmis))\n",
    "print(\"Highest BMI recorded:\", max(bmis))\n",
    "print(\"Average BMI:\", average(bmis))"
   ]
  },
  {
   "cell_type": "markdown",
   "metadata": {},
   "source": [
    "Then, to calculate lowest, highest and average BMI of males and of females, new `bmis_male` and `bmis_female` lists are created by finding the indexes of males and females in the `sexes` list and add corresponding BMI values in `bmis` to the lists. Here the `sexes` list only contains 'male' and 'female' items."
   ]
  },
  {
   "cell_type": "code",
   "execution_count": 19,
   "metadata": {},
   "outputs": [
    {
     "name": "stdout",
     "output_type": "stream",
     "text": [
      "Lowest male BMI recorded: 15.96\n",
      "Lowest female BMI recorded: 16.815\n",
      "Highest male BMI recorded: 53.13\n",
      "Highest female BMI recorded: 48.07\n",
      "Average male BMI: 30.94\n",
      "Average female BMI: 30.38\n"
     ]
    }
   ],
   "source": [
    "bmis_male = []\n",
    "bmis_female = []\n",
    "for i in range(len(sexes)):\n",
    "    if sexes[i]=='male': \n",
    "        bmis_male.append(bmis[i])\n",
    "    else:\n",
    "        bmis_female.append(bmis[i])\n",
    "\n",
    "print(\"Lowest male BMI recorded:\", min(bmis_male))\n",
    "print(\"Lowest female BMI recorded:\", min(bmis_female))\n",
    "print(\"Highest male BMI recorded:\", max(bmis_male))\n",
    "print(\"Highest female BMI recorded:\", max(bmis_female))\n",
    "print(\"Average male BMI:\", average(bmis_male))\n",
    "print(\"Average female BMI:\", average(bmis_female))"
   ]
  },
  {
   "cell_type": "markdown",
   "metadata": {},
   "source": [
    "#### 4, List kinds of region\n",
    "Iterate through list `regions` to find all the regions that patients live in."
   ]
  },
  {
   "cell_type": "code",
   "execution_count": 21,
   "metadata": {},
   "outputs": [
    {
     "name": "stdout",
     "output_type": "stream",
     "text": [
      "List of regions:\n",
      " ['southwest', 'southeast', 'northwest', 'northeast']\n"
     ]
    }
   ],
   "source": [
    "region_list = []\n",
    "for region in regions:\n",
    "    if region in region_list: \n",
    "        continue\n",
    "    else:\n",
    "        region_list.append(region)\n",
    "\n",
    "print(\"List of regions:\\n\",region_list)"
   ]
  },
  {
   "cell_type": "markdown",
   "metadata": {},
   "source": [
    "#### 5, Find average insurance charge for each sex type\n",
    "Similar to item *3,* above, we will create particular insurance charge lists for each category and then calculate average values."
   ]
  },
  {
   "cell_type": "code",
   "execution_count": 23,
   "metadata": {},
   "outputs": [
    {
     "name": "stdout",
     "output_type": "stream",
     "text": [
      "Average insurance charge for male: 13956.75\n",
      "Average insurance charge for female: 12569.58\n"
     ]
    }
   ],
   "source": [
    "insurance_male = []\n",
    "insurance_female = []\n",
    "\n",
    "for i in range(len(sexes)):\n",
    "    if sexes[i]=='male':\n",
    "        insurance_male.append(charges[i])\n",
    "    else:\n",
    "        insurance_female.append(charges[i])\n",
    "\n",
    "print(\"Average insurance charge for male:\",average(insurance_male))\n",
    "print(\"Average insurance charge for female:\",average(insurance_female))"
   ]
  },
  {
   "cell_type": "markdown",
   "metadata": {},
   "source": [
    "#### 6, Find average insurance charge for each number of children the patient has\n",
    "Firstly, find types of number of children. Secondly, create insurance charge lists for each type of number of children. Finally, calculate average insurance charge of each type."
   ]
  },
  {
   "cell_type": "code",
   "execution_count": 25,
   "metadata": {},
   "outputs": [
    {
     "name": "stdout",
     "output_type": "stream",
     "text": [
      "[0, 1, 3, 2, 5, 4]\n"
     ]
    }
   ],
   "source": [
    "num_child_list = []\n",
    "for num in nums_children:\n",
    "    if num in num_child_list: \n",
    "        continue\n",
    "    else:\n",
    "        num_child_list.append(num)\n",
    "\n",
    "print(num_child_list)"
   ]
  },
  {
   "cell_type": "markdown",
   "metadata": {},
   "source": [
    "There are 6 types of number of children that patient has. So we will creat corresponding 6 insurance charge lists. To do this fast we will use the function `create_charges_list_item` to create a sublist of `charges` based on index of the item that has particular value in other list."
   ]
  },
  {
   "cell_type": "code",
   "execution_count": 27,
   "metadata": {},
   "outputs": [
    {
     "name": "stdout",
     "output_type": "stream",
     "text": [
      "Average insurance charge for patient who has 0 children: 12365.98\n",
      "Average insurance charge for patient who has 1 children: 12731.17\n",
      "Average insurance charge for patient who has 3 children: 15355.32\n",
      "Average insurance charge for patient who has 2 children: 15073.56\n",
      "Average insurance charge for patient who has 5 children: 8786.04\n",
      "Average insurance charge for patient who has 4 children: 13850.66\n"
     ]
    }
   ],
   "source": [
    "def create_charges_list_item(list,charges_list,item):\n",
    "    new_list = []\n",
    "    for i in range(len(list)):\n",
    "        if list[i]==item:\n",
    "            new_list.append(charges_list[i])\n",
    "    return new_list\n",
    "\n",
    "for num in num_child_list:\n",
    "    charges_child = create_charges_list_item(nums_children,charges,num)\n",
    "    print(f\"Average insurance charge for patient who has {num} children:\", average(charges_child))"
   ]
  },
  {
   "cell_type": "markdown",
   "metadata": {},
   "source": [
    "#### 7, Find average insurance charge for smoker and non-smoker\n",
    "The method is the same as above. Here the items in `smokings` is either 'yes' or 'no'. So we use the function `create_charges_list_item` to creat two sublists of `charges` for smoker and non-smoker. Then, the average charge for each type is calculated."
   ]
  },
  {
   "cell_type": "code",
   "execution_count": 29,
   "metadata": {},
   "outputs": [
    {
     "name": "stdout",
     "output_type": "stream",
     "text": [
      "Average insurance charge for patient who is smoker: 32050.23\n",
      "Average insurance charge for patient who is non-smoker: 8434.27\n"
     ]
    }
   ],
   "source": [
    "charges_smoker = create_charges_list_item(smokings,charges,'yes')\n",
    "charges_non_smoker = create_charges_list_item(smokings,charges,'no')\n",
    "\n",
    "print(\"Average insurance charge for patient who is smoker:\",average(charges_smoker))\n",
    "print(\"Average insurance charge for patient who is non-smoker:\",average(charges_non_smoker))"
   ]
  },
  {
   "cell_type": "markdown",
   "metadata": {},
   "source": [
    "#### 8, Find average insurance charge for each region\n",
    "The method is the same as above. Here we had 4 kinds of region in `region_list`, so 4 sublists of `charges` will be created for patients in each region. Then, the average charge for each region is calculated."
   ]
  },
  {
   "cell_type": "code",
   "execution_count": 31,
   "metadata": {},
   "outputs": [
    {
     "name": "stdout",
     "output_type": "stream",
     "text": [
      "Average insurance for patient who lives in southwest: 12346.94\n",
      "Average insurance for patient who lives in southeast: 14735.41\n",
      "Average insurance for patient who lives in northwest: 12417.58\n",
      "Average insurance for patient who lives in northeast: 13406.38\n"
     ]
    }
   ],
   "source": [
    "for region in region_list:\n",
    "    charges_region = create_charges_list_item(regions,charges,region)\n",
    "    print(f\"Average insurance for patient who lives in {region}:\", average(charges_region))"
   ]
  },
  {
   "cell_type": "markdown",
   "metadata": {},
   "source": [
    "#### 9, Find average insurance charge, compare to above types of average insurance charge"
   ]
  },
  {
   "cell_type": "code",
   "execution_count": 33,
   "metadata": {},
   "outputs": [
    {
     "name": "stdout",
     "output_type": "stream",
     "text": [
      "Average insurance charge: 13270.42\n"
     ]
    }
   ],
   "source": [
    "print(\"Average insurance charge:\", average(charges))"
   ]
  },
  {
   "cell_type": "markdown",
   "metadata": {},
   "source": [
    "#### From the above calculations, for relation between the categorical variables and insurance charge, we can see that smokers likely to pay much more insurance than non-smokers (average: 32050.23 vs. 8434.27). Other categorical variables (sex, number of children, region) does not affect insurance remarkably."
   ]
  },
  {
   "cell_type": "markdown",
   "metadata": {},
   "source": [
    "#### 10, Draw a plot to represent correlation between age and insurance charge"
   ]
  },
  {
   "cell_type": "code",
   "execution_count": 36,
   "metadata": {},
   "outputs": [
    {
     "name": "stdout",
     "output_type": "stream",
     "text": [
      "Correlation coefficient: 0.29900819333064765\n"
     ]
    },
    {
     "data": {
      "image/png": "[encoded data removed]",
      "text/plain": [
       "<Figure size 640x480 with 1 Axes>"
      ]
     },
     "metadata": {},
     "output_type": "display_data"
    }
   ],
   "source": [
    "import matplotlib.pyplot as plt\n",
    "import numpy as np\n",
    "\n",
    "xpoints = np.array(ages)\n",
    "ypoints = np.array(charges)\n",
    "print(\"Correlation coefficient:\",np.corrcoef(xpoints, ypoints)[0, 1])\n",
    "\n",
    "plt.plot(xpoints, ypoints, 'o')\n",
    "plt.show()"
   ]
  },
  {
   "cell_type": "markdown",
   "metadata": {},
   "source": [
    "From the above plot, and knowing that the correlation coefficient is 0.3, we can conclude that higher age is slightly correlated with higher insurance charge."
   ]
  },
  {
   "cell_type": "markdown",
   "metadata": {},
   "source": [
    "#### 11, Draw a plot to represent correlation between BMI and insurance charge"
   ]
  },
  {
   "cell_type": "code",
   "execution_count": 39,
   "metadata": {},
   "outputs": [
    {
     "name": "stdout",
     "output_type": "stream",
     "text": [
      "Correlation coefficient: 0.1983409688336289\n"
     ]
    },
    {
     "data": {
      "image/png": "[encoded data removed]",
      "text/plain": [
       "<Figure size 640x480 with 1 Axes>"
      ]
     },
     "metadata": {},
     "output_type": "display_data"
    }
   ],
   "source": [
    "xpoints = np.array(bmis)\n",
    "ypoints = np.array(charges)\n",
    "print(\"Correlation coefficient:\",np.corrcoef(xpoints, ypoints)[0, 1])\n",
    "\n",
    "plt.plot(xpoints, ypoints, 'o')\n",
    "plt.show()"
   ]
  },
  {
   "cell_type": "markdown",
   "metadata": {},
   "source": [
    "From the above plot, and knowing that the correlation coefficient is 0.2, we can conclude that higher BMI is slightly correlated with higher insurance charge."
   ]
  },
  {
   "cell_type": "markdown",
   "metadata": {},
   "source": [
    "#### 12, Make predictions about what features are the most influential for an individual’s medical insurance charges: \n",
    "Smoking would be the most influential for an individual's medical insurance charge."
   ]
  },
  {
   "cell_type": "code",
   "execution_count": null,
   "metadata": {},
   "outputs": [],
   "source": []
  }
 ],
 "metadata": {
  "kernelspec": {
   "display_name": "Python 3 (ipykernel)",
   "language": "python",
   "name": "python3"
  },
  "language_info": {
   "codemirror_mode": {
    "name": "ipython",
    "version": 3
   },
   "file_extension": ".py",
   "mimetype": "text/x-python",
   "name": "python",
   "nbconvert_exporter": "python",
   "pygments_lexer": "ipython3",
   "version": "3.12.4"
  }
 },
 "nbformat": 4,
 "nbformat_minor": 4
}
